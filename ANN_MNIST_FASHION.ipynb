{
  "nbformat": 4,
  "nbformat_minor": 0,
  "metadata": {
    "colab": {
      "name": "ANN MNIST-FASHION",
      "provenance": [],
      "collapsed_sections": []
    },
    "kernelspec": {
      "name": "python3",
      "display_name": "Python 3"
    },
    "language_info": {
      "name": "python"
    },
    "accelerator": "GPU"
  },
  "cells": [
    {
      "cell_type": "code",
      "execution_count": null,
      "metadata": {
        "colab": {
          "base_uri": "https://localhost:8080/",
          "height": 300
        },
        "id": "NoFtLWl9Z3iC",
        "outputId": "69dfd008-105c-4e36-fe91-912400fe2e08"
      },
      "outputs": [
        {
          "output_type": "stream",
          "name": "stdout",
          "text": [
            "(60000, 28, 28)\n"
          ]
        },
        {
          "output_type": "execute_result",
          "data": {
            "text/plain": [
              "<matplotlib.image.AxesImage at 0x7f519c054710>"
            ]
          },
          "metadata": {},
          "execution_count": 22
        },
        {
          "output_type": "display_data",
          "data": {
            "text/plain": [
              "<Figure size 432x288 with 1 Axes>"
            ],
            "image/png": "[encoded data removed]"
          },
          "metadata": {
            "needs_background": "light"
          }
        }
      ],
      "source": [
        "import numpy as np\n",
        "import pandas as pd\n",
        "from keras.datasets import mnist\n",
        "from tensorflow.keras.utils import to_categorical\n",
        "from keras.models import Sequential\n",
        "from keras.layers import Dense, Dropout, Activation\n",
        "from keras.callbacks import EarlyStopping\n",
        "from tensorflow.keras.optimizers import RMSprop\n",
        "from keras.backend import dropout\n",
        "import matplotlib.pyplot as plt\n",
        "(X_train, y_train),(X_test,y_test) = mnist.load_data()\n",
        "print(X_train.shape)\n",
        "plt.imshow(X_test[0])"
      ]
    },
    {
      "cell_type": "code",
      "source": [
        "X_train = X_train.reshape(60000,784) \n",
        "X_test = X_test.reshape(10000,784)\n",
        "# Scale images to the [0, 1] range\n",
        "X_train_scale = X_train.astype(\"float32\") / 255\n",
        "X_test_scale = X_test.astype(\"float32\") / 255\n",
        "\n",
        "# convert class vectors to binary class matrices\n",
        "y_train_scale = to_categorical(y_train, 10)\n",
        "y_test_scale = to_categorical(y_test, 10)\n"
      ],
      "metadata": {
        "id": "nhJFmMClbQsL"
      },
      "execution_count": null,
      "outputs": []
    },
    {
      "cell_type": "code",
      "source": [
        "model = Sequential()\n",
        "model.add(Dense(512,activation='relu',input_shape=(784,)))\n",
        "model.add(Dropout(0.2))\n",
        "model.add(Dense(512,activation='relu'))\n",
        "model.add(Dropout(0.2))\n",
        "model.add(Dense(512,activation='relu'))\n",
        "model.add(Dropout(0.2))\n",
        "model.add(Dense(10,activation='softmax')) \n",
        "model.summary() # hienthi noi dung model\n",
        "model.compile(loss='categorical_crossentropy',optimizer=RMSprop(), metrics=['accuracy'])"
      ],
      "metadata": {
        "colab": {
          "base_uri": "https://localhost:8080/"
        },
        "id": "k4Es5ONbwegD",
        "outputId": "c8763410-0972-4f9e-a328-d23ea008121c"
      },
      "execution_count": null,
      "outputs": [
        {
          "output_type": "stream",
          "name": "stdout",
          "text": [
            "Model: \"sequential_11\"\n",
            "_________________________________________________________________\n",
            " Layer (type)                Output Shape              Param #   \n",
            "=================================================================\n",
            " dense_44 (Dense)            (None, 512)               401920    \n",
            "                                                                 \n",
            " dropout_33 (Dropout)        (None, 512)               0         \n",
            "                                                                 \n",
            " dense_45 (Dense)            (None, 512)               262656    \n",
            "                                                                 \n",
            " dropout_34 (Dropout)        (None, 512)               0         \n",
            "                                                                 \n",
            " dense_46 (Dense)            (None, 512)               262656    \n",
            "                                                                 \n",
            " dropout_35 (Dropout)        (None, 512)               0         \n",
            "                                                                 \n",
            " dense_47 (Dense)            (None, 10)                5130      \n",
            "                                                                 \n",
            "=================================================================\n",
            "Total params: 932,362\n",
            "Trainable params: 932,362\n",
            "Non-trainable params: 0\n",
            "_________________________________________________________________\n"
          ]
        }
      ]
    },
    {
      "cell_type": "code",
      "source": [
        "history = model.fit(X_train_scale,y_train_scale,batch_size=128,epochs=500,verbose=1,\n",
        "                    validation_split=0.2,callbacks=[EarlyStopping(monitor='val_loss',patience=80)])\n",
        "score = model.evaluate(X_test_scale,y_test_scale,verbose=1)"
      ],
      "metadata": {
        "id": "sgRoFVk5wuQu",
        "colab": {
          "base_uri": "https://localhost:8080/"
        },
        "outputId": "efd5ed9f-b805-49d4-aeb3-700a883e2151"
      },
      "execution_count": null,
      "outputs": [
        {
          "output_type": "stream",
          "name": "stdout",
          "text": [
            "Epoch 1/500\n",
            "375/375 [==============================] - 2s 4ms/step - loss: 0.2953 - accuracy: 0.9077 - val_loss: 0.1249 - val_accuracy: 0.9632\n",
            "Epoch 2/500\n",
            "375/375 [==============================] - 1s 4ms/step - loss: 0.1223 - accuracy: 0.9638 - val_loss: 0.1218 - val_accuracy: 0.9657\n",
            "Epoch 3/500\n",
            "375/375 [==============================] - 1s 4ms/step - loss: 0.0914 - accuracy: 0.9730 - val_loss: 0.0987 - val_accuracy: 0.9748\n",
            "Epoch 4/500\n",
            "375/375 [==============================] - 3s 7ms/step - loss: 0.0754 - accuracy: 0.9778 - val_loss: 0.1030 - val_accuracy: 0.9754\n",
            "Epoch 5/500\n",
            "375/375 [==============================] - 2s 4ms/step - loss: 0.0665 - accuracy: 0.9812 - val_loss: 0.1137 - val_accuracy: 0.9740\n",
            "Epoch 6/500\n",
            "375/375 [==============================] - 1s 4ms/step - loss: 0.0560 - accuracy: 0.9835 - val_loss: 0.1107 - val_accuracy: 0.9762\n",
            "Epoch 7/500\n",
            "375/375 [==============================] - 1s 4ms/step - loss: 0.0560 - accuracy: 0.9851 - val_loss: 0.1184 - val_accuracy: 0.9769\n",
            "Epoch 8/500\n",
            "375/375 [==============================] - 2s 4ms/step - loss: 0.0475 - accuracy: 0.9869 - val_loss: 0.1260 - val_accuracy: 0.9773\n",
            "Epoch 9/500\n",
            "375/375 [==============================] - 2s 4ms/step - loss: 0.0454 - accuracy: 0.9879 - val_loss: 0.1372 - val_accuracy: 0.9762\n",
            "Epoch 10/500\n",
            "375/375 [==============================] - 1s 4ms/step - loss: 0.0448 - accuracy: 0.9885 - val_loss: 0.1356 - val_accuracy: 0.9793\n",
            "Epoch 11/500\n",
            "375/375 [==============================] - 1s 4ms/step - loss: 0.0422 - accuracy: 0.9890 - val_loss: 0.1271 - val_accuracy: 0.9787\n",
            "Epoch 12/500\n",
            "375/375 [==============================] - 1s 4ms/step - loss: 0.0421 - accuracy: 0.9897 - val_loss: 0.1214 - val_accuracy: 0.9796\n",
            "Epoch 13/500\n",
            "375/375 [==============================] - 1s 4ms/step - loss: 0.0370 - accuracy: 0.9908 - val_loss: 0.1584 - val_accuracy: 0.9795\n",
            "Epoch 14/500\n",
            "375/375 [==============================] - 2s 4ms/step - loss: 0.0387 - accuracy: 0.9905 - val_loss: 0.1432 - val_accuracy: 0.9807\n",
            "Epoch 15/500\n",
            "375/375 [==============================] - 2s 4ms/step - loss: 0.0362 - accuracy: 0.9913 - val_loss: 0.1523 - val_accuracy: 0.9787\n",
            "Epoch 16/500\n",
            "375/375 [==============================] - 1s 4ms/step - loss: 0.0400 - accuracy: 0.9912 - val_loss: 0.1929 - val_accuracy: 0.9789\n",
            "Epoch 17/500\n",
            "375/375 [==============================] - 2s 4ms/step - loss: 0.0349 - accuracy: 0.9921 - val_loss: 0.1889 - val_accuracy: 0.9803\n",
            "Epoch 18/500\n",
            "375/375 [==============================] - 2s 4ms/step - loss: 0.0360 - accuracy: 0.9924 - val_loss: 0.1655 - val_accuracy: 0.9795\n",
            "Epoch 19/500\n",
            "375/375 [==============================] - 2s 4ms/step - loss: 0.0345 - accuracy: 0.9925 - val_loss: 0.1965 - val_accuracy: 0.9795\n",
            "Epoch 20/500\n",
            "375/375 [==============================] - 1s 4ms/step - loss: 0.0352 - accuracy: 0.9920 - val_loss: 0.2097 - val_accuracy: 0.9767\n",
            "Epoch 21/500\n",
            "375/375 [==============================] - 1s 4ms/step - loss: 0.0326 - accuracy: 0.9937 - val_loss: 0.1827 - val_accuracy: 0.9810\n",
            "Epoch 22/500\n",
            "375/375 [==============================] - 2s 4ms/step - loss: 0.0362 - accuracy: 0.9932 - val_loss: 0.2246 - val_accuracy: 0.9751\n",
            "Epoch 23/500\n",
            "375/375 [==============================] - 1s 4ms/step - loss: 0.0347 - accuracy: 0.9931 - val_loss: 0.1945 - val_accuracy: 0.9778\n",
            "Epoch 24/500\n",
            "375/375 [==============================] - 1s 4ms/step - loss: 0.0359 - accuracy: 0.9931 - val_loss: 0.1829 - val_accuracy: 0.9787\n",
            "Epoch 25/500\n",
            "375/375 [==============================] - 1s 4ms/step - loss: 0.0315 - accuracy: 0.9934 - val_loss: 0.2139 - val_accuracy: 0.9814\n",
            "Epoch 26/500\n",
            "375/375 [==============================] - 1s 4ms/step - loss: 0.0359 - accuracy: 0.9925 - val_loss: 0.1894 - val_accuracy: 0.9805\n",
            "Epoch 27/500\n",
            "375/375 [==============================] - 1s 4ms/step - loss: 0.0334 - accuracy: 0.9939 - val_loss: 0.2336 - val_accuracy: 0.9795\n",
            "Epoch 28/500\n",
            "375/375 [==============================] - 1s 4ms/step - loss: 0.0315 - accuracy: 0.9939 - val_loss: 0.2459 - val_accuracy: 0.9790\n",
            "Epoch 29/500\n",
            "375/375 [==============================] - 1s 4ms/step - loss: 0.0308 - accuracy: 0.9938 - val_loss: 0.2372 - val_accuracy: 0.9808\n",
            "Epoch 30/500\n",
            "375/375 [==============================] - 1s 4ms/step - loss: 0.0323 - accuracy: 0.9941 - val_loss: 0.2620 - val_accuracy: 0.9798\n",
            "Epoch 31/500\n",
            "375/375 [==============================] - 2s 4ms/step - loss: 0.0324 - accuracy: 0.9942 - val_loss: 0.2560 - val_accuracy: 0.9803\n",
            "Epoch 32/500\n",
            "375/375 [==============================] - 1s 4ms/step - loss: 0.0338 - accuracy: 0.9940 - val_loss: 0.2376 - val_accuracy: 0.9797\n",
            "Epoch 33/500\n",
            "375/375 [==============================] - 2s 4ms/step - loss: 0.0329 - accuracy: 0.9942 - val_loss: 0.2221 - val_accuracy: 0.9803\n",
            "Epoch 34/500\n",
            "375/375 [==============================] - 1s 4ms/step - loss: 0.0357 - accuracy: 0.9939 - val_loss: 0.2321 - val_accuracy: 0.9819\n",
            "Epoch 35/500\n",
            "375/375 [==============================] - 2s 4ms/step - loss: 0.0323 - accuracy: 0.9946 - val_loss: 0.2401 - val_accuracy: 0.9793\n",
            "Epoch 36/500\n",
            "375/375 [==============================] - 1s 4ms/step - loss: 0.0341 - accuracy: 0.9944 - val_loss: 0.2900 - val_accuracy: 0.9789\n",
            "Epoch 37/500\n",
            "375/375 [==============================] - 2s 4ms/step - loss: 0.0382 - accuracy: 0.9937 - val_loss: 0.2324 - val_accuracy: 0.9813\n",
            "Epoch 38/500\n",
            "375/375 [==============================] - 2s 4ms/step - loss: 0.0304 - accuracy: 0.9950 - val_loss: 0.2802 - val_accuracy: 0.9794\n",
            "Epoch 39/500\n",
            "375/375 [==============================] - 2s 4ms/step - loss: 0.0301 - accuracy: 0.9952 - val_loss: 0.3022 - val_accuracy: 0.9791\n",
            "Epoch 40/500\n",
            "375/375 [==============================] - 1s 4ms/step - loss: 0.0333 - accuracy: 0.9948 - val_loss: 0.2964 - val_accuracy: 0.9819\n",
            "Epoch 41/500\n",
            "375/375 [==============================] - 2s 4ms/step - loss: 0.0312 - accuracy: 0.9949 - val_loss: 0.3384 - val_accuracy: 0.9803\n",
            "Epoch 42/500\n",
            "375/375 [==============================] - 1s 4ms/step - loss: 0.0347 - accuracy: 0.9950 - val_loss: 0.2896 - val_accuracy: 0.9826\n",
            "Epoch 43/500\n",
            "375/375 [==============================] - 1s 4ms/step - loss: 0.0307 - accuracy: 0.9954 - val_loss: 0.3229 - val_accuracy: 0.9805\n",
            "Epoch 44/500\n",
            "375/375 [==============================] - 2s 4ms/step - loss: 0.0308 - accuracy: 0.9952 - val_loss: 0.3544 - val_accuracy: 0.9816\n",
            "Epoch 45/500\n",
            "375/375 [==============================] - 1s 4ms/step - loss: 0.0293 - accuracy: 0.9956 - val_loss: 0.3255 - val_accuracy: 0.9819\n",
            "Epoch 46/500\n",
            "375/375 [==============================] - 2s 4ms/step - loss: 0.0307 - accuracy: 0.9954 - val_loss: 0.3177 - val_accuracy: 0.9808\n",
            "Epoch 47/500\n",
            "375/375 [==============================] - 2s 4ms/step - loss: 0.0283 - accuracy: 0.9954 - val_loss: 0.3598 - val_accuracy: 0.9826\n",
            "Epoch 48/500\n",
            "375/375 [==============================] - 1s 4ms/step - loss: 0.0368 - accuracy: 0.9950 - val_loss: 0.3041 - val_accuracy: 0.9802\n",
            "Epoch 49/500\n",
            "375/375 [==============================] - 2s 4ms/step - loss: 0.0282 - accuracy: 0.9954 - val_loss: 0.3307 - val_accuracy: 0.9818\n",
            "Epoch 50/500\n",
            "375/375 [==============================] - 1s 4ms/step - loss: 0.0324 - accuracy: 0.9959 - val_loss: 0.3116 - val_accuracy: 0.9815\n",
            "Epoch 51/500\n",
            "375/375 [==============================] - 1s 4ms/step - loss: 0.0310 - accuracy: 0.9956 - val_loss: 0.3283 - val_accuracy: 0.9821\n",
            "Epoch 52/500\n",
            "375/375 [==============================] - 2s 4ms/step - loss: 0.0363 - accuracy: 0.9957 - val_loss: 0.3399 - val_accuracy: 0.9807\n",
            "Epoch 53/500\n",
            "375/375 [==============================] - 1s 4ms/step - loss: 0.0318 - accuracy: 0.9958 - val_loss: 0.3548 - val_accuracy: 0.9802\n",
            "Epoch 54/500\n",
            "375/375 [==============================] - 1s 4ms/step - loss: 0.0312 - accuracy: 0.9956 - val_loss: 0.3344 - val_accuracy: 0.9823\n",
            "Epoch 55/500\n",
            "375/375 [==============================] - 2s 4ms/step - loss: 0.0259 - accuracy: 0.9956 - val_loss: 0.3698 - val_accuracy: 0.9813\n",
            "Epoch 56/500\n",
            "375/375 [==============================] - 2s 4ms/step - loss: 0.0301 - accuracy: 0.9959 - val_loss: 0.3182 - val_accuracy: 0.9837\n",
            "Epoch 57/500\n",
            "375/375 [==============================] - 1s 4ms/step - loss: 0.0264 - accuracy: 0.9960 - val_loss: 0.3471 - val_accuracy: 0.9815\n",
            "Epoch 58/500\n",
            "375/375 [==============================] - 2s 4ms/step - loss: 0.0345 - accuracy: 0.9957 - val_loss: 0.3528 - val_accuracy: 0.9814\n",
            "Epoch 59/500\n",
            "375/375 [==============================] - 1s 4ms/step - loss: 0.0266 - accuracy: 0.9964 - val_loss: 0.4115 - val_accuracy: 0.9813\n",
            "Epoch 60/500\n",
            "375/375 [==============================] - 2s 4ms/step - loss: 0.0268 - accuracy: 0.9958 - val_loss: 0.3953 - val_accuracy: 0.9789\n",
            "Epoch 61/500\n",
            "375/375 [==============================] - 2s 4ms/step - loss: 0.0262 - accuracy: 0.9966 - val_loss: 0.3927 - val_accuracy: 0.9815\n",
            "Epoch 62/500\n",
            "375/375 [==============================] - 1s 4ms/step - loss: 0.0360 - accuracy: 0.9959 - val_loss: 0.3865 - val_accuracy: 0.9815\n",
            "Epoch 63/500\n",
            "375/375 [==============================] - 2s 4ms/step - loss: 0.0282 - accuracy: 0.9964 - val_loss: 0.4036 - val_accuracy: 0.9809\n",
            "Epoch 64/500\n",
            "375/375 [==============================] - 1s 4ms/step - loss: 0.0304 - accuracy: 0.9960 - val_loss: 0.3940 - val_accuracy: 0.9816\n",
            "Epoch 65/500\n",
            "375/375 [==============================] - 1s 4ms/step - loss: 0.0324 - accuracy: 0.9960 - val_loss: 0.4608 - val_accuracy: 0.9806\n",
            "Epoch 66/500\n",
            "375/375 [==============================] - 1s 4ms/step - loss: 0.0383 - accuracy: 0.9956 - val_loss: 0.3955 - val_accuracy: 0.9815\n",
            "Epoch 67/500\n",
            "375/375 [==============================] - 2s 4ms/step - loss: 0.0299 - accuracy: 0.9961 - val_loss: 0.3758 - val_accuracy: 0.9820\n",
            "Epoch 68/500\n",
            "375/375 [==============================] - 1s 4ms/step - loss: 0.0275 - accuracy: 0.9964 - val_loss: 0.3818 - val_accuracy: 0.9829\n",
            "Epoch 69/500\n",
            "375/375 [==============================] - 2s 4ms/step - loss: 0.0313 - accuracy: 0.9962 - val_loss: 0.4416 - val_accuracy: 0.9791\n",
            "Epoch 70/500\n",
            "375/375 [==============================] - 1s 4ms/step - loss: 0.0302 - accuracy: 0.9962 - val_loss: 0.4155 - val_accuracy: 0.9830\n",
            "Epoch 71/500\n",
            "375/375 [==============================] - 1s 4ms/step - loss: 0.0295 - accuracy: 0.9965 - val_loss: 0.4854 - val_accuracy: 0.9804\n",
            "Epoch 72/500\n",
            "375/375 [==============================] - 1s 4ms/step - loss: 0.0304 - accuracy: 0.9963 - val_loss: 0.4872 - val_accuracy: 0.9798\n",
            "Epoch 73/500\n",
            "375/375 [==============================] - 1s 4ms/step - loss: 0.0308 - accuracy: 0.9960 - val_loss: 0.4400 - val_accuracy: 0.9793\n",
            "Epoch 74/500\n",
            "375/375 [==============================] - 1s 4ms/step - loss: 0.0333 - accuracy: 0.9966 - val_loss: 0.4111 - val_accuracy: 0.9808\n",
            "Epoch 75/500\n",
            "375/375 [==============================] - 1s 4ms/step - loss: 0.0273 - accuracy: 0.9969 - val_loss: 0.4596 - val_accuracy: 0.9816\n",
            "Epoch 76/500\n",
            "375/375 [==============================] - 1s 4ms/step - loss: 0.0352 - accuracy: 0.9961 - val_loss: 0.4224 - val_accuracy: 0.9822\n",
            "Epoch 77/500\n",
            "375/375 [==============================] - 1s 4ms/step - loss: 0.0301 - accuracy: 0.9966 - val_loss: 0.4134 - val_accuracy: 0.9827\n",
            "Epoch 78/500\n",
            "375/375 [==============================] - 2s 4ms/step - loss: 0.0329 - accuracy: 0.9965 - val_loss: 0.4435 - val_accuracy: 0.9815\n",
            "Epoch 79/500\n",
            "375/375 [==============================] - 1s 4ms/step - loss: 0.0378 - accuracy: 0.9960 - val_loss: 0.3595 - val_accuracy: 0.9811\n",
            "Epoch 80/500\n",
            "375/375 [==============================] - 1s 4ms/step - loss: 0.0255 - accuracy: 0.9965 - val_loss: 0.4213 - val_accuracy: 0.9824\n",
            "Epoch 81/500\n",
            "375/375 [==============================] - 1s 4ms/step - loss: 0.0288 - accuracy: 0.9968 - val_loss: 0.5160 - val_accuracy: 0.9797\n",
            "Epoch 82/500\n",
            "375/375 [==============================] - 2s 4ms/step - loss: 0.0339 - accuracy: 0.9971 - val_loss: 0.4361 - val_accuracy: 0.9833\n",
            "Epoch 83/500\n",
            "375/375 [==============================] - 1s 4ms/step - loss: 0.0259 - accuracy: 0.9971 - val_loss: 0.4946 - val_accuracy: 0.9806\n",
            "313/313 [==============================] - 1s 2ms/step - loss: 0.3615 - accuracy: 0.9833\n"
          ]
        }
      ]
    },
    {
      "cell_type": "code",
      "source": [
        "score = model.evaluate(X_test_scale,y_test_scale,verbose=1)\n",
        "print('test loss: ',score[0])\n",
        "print( 'test accuracy: ',score[1])"
      ],
      "metadata": {
        "colab": {
          "base_uri": "https://localhost:8080/"
        },
        "id": "a3yIbrCX01Fk",
        "outputId": "f220c78e-330e-4ea7-cd0a-fa932d45b2fb"
      },
      "execution_count": null,
      "outputs": [
        {
          "output_type": "stream",
          "name": "stdout",
          "text": [
            "313/313 [==============================] - 1s 2ms/step - loss: 0.3615 - accuracy: 0.9833\n",
            "test loss:  0.36149662733078003\n",
            "test accuracy:  0.983299970626831\n"
          ]
        }
      ]
    },
    {
      "cell_type": "code",
      "source": [
        "plt.plot(history.history['accuracy'])\n",
        "plt.plot(history.history['val_accuracy'])\n",
        "plt.title('Model accuracy')\n",
        "plt.ylabel('Accuracy')\n",
        "plt.xlabel('Epochs')\n",
        "plt.legend(['Train','Validation'])\n",
        "plt.show()\n"
      ],
      "metadata": {
        "colab": {
          "base_uri": "https://localhost:8080/",
          "height": 295
        },
        "id": "V8h9tLiV02NM",
        "outputId": "5f2bd23c-8bdb-4996-df97-7c587334fa1c"
      },
      "execution_count": null,
      "outputs": [
        {
          "output_type": "display_data",
          "data": {
            "text/plain": [
              "<Figure size 432x288 with 1 Axes>"
            ],
            "image/png": "[encoded data removed]"
          },
          "metadata": {
            "needs_background": "light"
          }
        }
      ]
    },
    {
      "cell_type": "code",
      "source": [
        "prediction = model.predict(X_test_scale[:1])\n",
        "print(prediction)"
      ],
      "metadata": {
        "colab": {
          "base_uri": "https://localhost:8080/"
        },
        "id": "PtMEmr9I04yb",
        "outputId": "c0953a7b-785e-47ee-ed5b-a1985e198361"
      },
      "execution_count": null,
      "outputs": [
        {
          "output_type": "stream",
          "name": "stdout",
          "text": [
            "[[0. 0. 0. 0. 0. 0. 0. 1. 0. 0.]]\n"
          ]
        }
      ]
    }
  ]
}