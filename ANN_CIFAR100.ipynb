{
  "nbformat": 4,
  "nbformat_minor": 0,
  "metadata": {
    "colab": {
      "name": "ANN CIFAR100",
      "provenance": []
    },
    "kernelspec": {
      "name": "python3",
      "display_name": "Python 3"
    },
    "language_info": {
      "name": "python"
    },
    "accelerator": "GPU"
  },
  "cells": [
    {
      "cell_type": "code",
      "execution_count": null,
      "metadata": {
        "colab": {
          "base_uri": "https://localhost:8080/",
          "height": 387
        },
        "id": "ZrGxJWCayhgX",
        "outputId": "05f1c317-bba2-49a5-efcf-b212113e7165"
      },
      "outputs": [
        {
          "output_type": "stream",
          "name": "stdout",
          "text": [
            "Downloading data from https://www.cs.toronto.edu/~kriz/cifar-100-python.tar.gz\n",
            "169009152/169001437 [==============================] - 2s 0us/step\n",
            "169017344/169001437 [==============================] - 2s 0us/step\n",
            "(50000, 32, 32, 3)\n",
            "(10000, 32, 32, 3)\n",
            "(50000, 1)\n"
          ]
        },
        {
          "output_type": "execute_result",
          "data": {
            "text/plain": [
              "<matplotlib.image.AxesImage at 0x7f45f4d42990>"
            ]
          },
          "metadata": {},
          "execution_count": 1
        },
        {
          "output_type": "display_data",
          "data": {
            "text/plain": [
              "<Figure size 432x288 with 1 Axes>"
            ],
            "image/png": "[encoded data removed]"
          },
          "metadata": {
            "needs_background": "light"
          }
        }
      ],
      "source": [
        "import numpy as np\n",
        "import pandas as pd\n",
        "from keras.datasets import cifar100\n",
        "import matplotlib.pyplot as plt\n",
        "from tensorflow.keras.utils import to_categorical\n",
        "from keras.models import Sequential\n",
        "from keras.layers import Dense, Dropout\n",
        "from tensorflow.keras.optimizers import RMSprop\n",
        "from keras.callbacks import EarlyStopping\n",
        "from keras.backend import dropout\n",
        "(X_train, y_train),(X_test,y_test) = cifar100.load_data()\n",
        "print(X_train.shape)\n",
        "print(X_test.shape)\n",
        "print(y_train.shape)\n",
        "plt.imshow(X_train[2])"
      ]
    },
    {
      "cell_type": "code",
      "source": [
        "X_train = X_train.reshape(50000,3072)\n",
        "X_test = X_test.reshape(10000,3072)\n",
        "X_train_scale = X_train.astype('float32')\n",
        "X_test_scale = X_test.astype('float32')\n",
        "X_train_scale /=255\n",
        "X_test_scale /=255\n",
        "y_train_scale = to_categorical(y_train,100)\n",
        "y_test_scale = to_categorical(y_test,100)\n",
        "#print(X_train_scale)\n",
        "#print(X_test_scale)\n",
        "#print(y_train_scale)\n",
        "#print(y_test_scale)"
      ],
      "metadata": {
        "id": "EWHowEneyz9O"
      },
      "execution_count": null,
      "outputs": []
    },
    {
      "cell_type": "code",
      "source": [
        "model = Sequential()\n",
        "model.add(Dense(512,activation='relu',input_shape=(3072,)))\n",
        "model.add(Dropout(0.2))\n",
        "model.add(Dense(512,activation='relu'))\n",
        "model.add(Dropout(0.2))\n",
        "model.add(Dense(512,activation='relu'))\n",
        "model.add(Dropout(0.2))\n",
        "model.add(Dense(100,activation='softmax'))\n",
        "model.summary()\n",
        "model.compile(loss='categorical_crossentropy',optimizer=RMSprop(), metrics=['accuracy'])\n"
      ],
      "metadata": {
        "colab": {
          "base_uri": "https://localhost:8080/"
        },
        "id": "K3dkKGqmxNFQ",
        "outputId": "ed8ba961-3e79-4f69-c599-fb056b883fed"
      },
      "execution_count": null,
      "outputs": [
        {
          "output_type": "stream",
          "name": "stdout",
          "text": [
            "Model: \"sequential\"\n",
            "_________________________________________________________________\n",
            " Layer (type)                Output Shape              Param #   \n",
            "=================================================================\n",
            " dense (Dense)               (None, 512)               1573376   \n",
            "                                                                 \n",
            " dropout (Dropout)           (None, 512)               0         \n",
            "                                                                 \n",
            " dense_1 (Dense)             (None, 512)               262656    \n",
            "                                                                 \n",
            " dropout_1 (Dropout)         (None, 512)               0         \n",
            "                                                                 \n",
            " dense_2 (Dense)             (None, 512)               262656    \n",
            "                                                                 \n",
            " dropout_2 (Dropout)         (None, 512)               0         \n",
            "                                                                 \n",
            " dense_3 (Dense)             (None, 100)               51300     \n",
            "                                                                 \n",
            "=================================================================\n",
            "Total params: 2,149,988\n",
            "Trainable params: 2,149,988\n",
            "Non-trainable params: 0\n",
            "_________________________________________________________________\n"
          ]
        }
      ]
    },
    {
      "cell_type": "code",
      "source": [
        "history = model.fit(X_train_scale,y_train_scale,batch_size=128,epochs=200,verbose=1,\n",
        "                    validation_split=0.2,callbacks=[EarlyStopping(monitor='val_loss',patience=80)])\n"
      ],
      "metadata": {
        "colab": {
          "base_uri": "https://localhost:8080/"
        },
        "id": "aMb3DpHj02Ne",
        "outputId": "1c701055-dd54-49a1-d9cc-22a743d41ef5"
      },
      "execution_count": null,
      "outputs": [
        {
          "output_type": "stream",
          "name": "stdout",
          "text": [
            "Epoch 1/200\n",
            "313/313 [==============================] - 5s 7ms/step - loss: 4.3633 - accuracy: 0.0389 - val_loss: 4.2508 - val_accuracy: 0.0506\n",
            "Epoch 2/200\n",
            "313/313 [==============================] - 2s 5ms/step - loss: 4.0671 - accuracy: 0.0727 - val_loss: 3.9238 - val_accuracy: 0.1032\n",
            "Epoch 3/200\n",
            "313/313 [==============================] - 2s 5ms/step - loss: 3.9265 - accuracy: 0.0920 - val_loss: 3.8168 - val_accuracy: 0.1147\n",
            "Epoch 4/200\n",
            "313/313 [==============================] - 2s 5ms/step - loss: 3.8338 - accuracy: 0.1093 - val_loss: 3.7180 - val_accuracy: 0.1353\n",
            "Epoch 5/200\n",
            "313/313 [==============================] - 2s 5ms/step - loss: 3.7585 - accuracy: 0.1201 - val_loss: 3.6946 - val_accuracy: 0.1442\n",
            "Epoch 6/200\n",
            "313/313 [==============================] - 2s 5ms/step - loss: 3.7195 - accuracy: 0.1271 - val_loss: 3.8177 - val_accuracy: 0.1231\n",
            "Epoch 7/200\n",
            "313/313 [==============================] - 2s 5ms/step - loss: 3.6725 - accuracy: 0.1365 - val_loss: 3.6422 - val_accuracy: 0.1551\n",
            "Epoch 8/200\n",
            "313/313 [==============================] - 2s 5ms/step - loss: 3.6452 - accuracy: 0.1445 - val_loss: 3.5905 - val_accuracy: 0.1547\n",
            "Epoch 9/200\n",
            "313/313 [==============================] - 2s 5ms/step - loss: 3.6193 - accuracy: 0.1462 - val_loss: 3.6551 - val_accuracy: 0.1496\n",
            "Epoch 10/200\n",
            "313/313 [==============================] - 2s 5ms/step - loss: 3.5937 - accuracy: 0.1517 - val_loss: 3.6132 - val_accuracy: 0.1537\n",
            "Epoch 11/200\n",
            "313/313 [==============================] - 2s 5ms/step - loss: 3.5809 - accuracy: 0.1532 - val_loss: 3.5293 - val_accuracy: 0.1727\n",
            "Epoch 12/200\n",
            "313/313 [==============================] - 2s 5ms/step - loss: 3.5690 - accuracy: 0.1558 - val_loss: 3.5855 - val_accuracy: 0.1650\n",
            "Epoch 13/200\n",
            "313/313 [==============================] - 2s 5ms/step - loss: 3.5524 - accuracy: 0.1575 - val_loss: 3.6249 - val_accuracy: 0.1560\n",
            "Epoch 14/200\n",
            "313/313 [==============================] - 2s 5ms/step - loss: 3.5431 - accuracy: 0.1606 - val_loss: 3.5529 - val_accuracy: 0.1733\n",
            "Epoch 15/200\n",
            "313/313 [==============================] - 2s 5ms/step - loss: 3.5322 - accuracy: 0.1608 - val_loss: 3.5862 - val_accuracy: 0.1619\n",
            "Epoch 16/200\n",
            "313/313 [==============================] - 2s 5ms/step - loss: 3.5292 - accuracy: 0.1635 - val_loss: 3.5704 - val_accuracy: 0.1599\n",
            "Epoch 17/200\n",
            "313/313 [==============================] - 2s 5ms/step - loss: 3.5238 - accuracy: 0.1646 - val_loss: 3.5246 - val_accuracy: 0.1661\n",
            "Epoch 18/200\n",
            "313/313 [==============================] - 2s 5ms/step - loss: 3.5119 - accuracy: 0.1675 - val_loss: 3.5661 - val_accuracy: 0.1668\n",
            "Epoch 19/200\n",
            "313/313 [==============================] - 2s 5ms/step - loss: 3.5074 - accuracy: 0.1661 - val_loss: 3.5463 - val_accuracy: 0.1685\n",
            "Epoch 20/200\n",
            "313/313 [==============================] - 2s 5ms/step - loss: 3.4988 - accuracy: 0.1690 - val_loss: 3.5164 - val_accuracy: 0.1759\n",
            "Epoch 21/200\n",
            "313/313 [==============================] - 2s 5ms/step - loss: 3.4987 - accuracy: 0.1683 - val_loss: 3.5656 - val_accuracy: 0.1638\n",
            "Epoch 22/200\n",
            "313/313 [==============================] - 2s 5ms/step - loss: 3.4975 - accuracy: 0.1712 - val_loss: 3.5448 - val_accuracy: 0.1692\n",
            "Epoch 23/200\n",
            "313/313 [==============================] - 2s 5ms/step - loss: 3.5041 - accuracy: 0.1691 - val_loss: 3.5384 - val_accuracy: 0.1750\n",
            "Epoch 24/200\n",
            "313/313 [==============================] - 2s 5ms/step - loss: 3.4970 - accuracy: 0.1711 - val_loss: 3.4864 - val_accuracy: 0.1803\n",
            "Epoch 25/200\n",
            "313/313 [==============================] - 2s 5ms/step - loss: 3.4904 - accuracy: 0.1752 - val_loss: 3.5403 - val_accuracy: 0.1679\n",
            "Epoch 26/200\n",
            "313/313 [==============================] - 2s 5ms/step - loss: 3.4878 - accuracy: 0.1714 - val_loss: 3.5230 - val_accuracy: 0.1749\n",
            "Epoch 27/200\n",
            "313/313 [==============================] - 2s 5ms/step - loss: 3.4833 - accuracy: 0.1740 - val_loss: 3.5538 - val_accuracy: 0.1792\n",
            "Epoch 28/200\n",
            "313/313 [==============================] - 2s 5ms/step - loss: 3.4854 - accuracy: 0.1724 - val_loss: 3.4480 - val_accuracy: 0.1851\n",
            "Epoch 29/200\n",
            "313/313 [==============================] - 2s 5ms/step - loss: 3.4837 - accuracy: 0.1741 - val_loss: 3.5112 - val_accuracy: 0.1794\n",
            "Epoch 30/200\n",
            "313/313 [==============================] - 2s 5ms/step - loss: 3.4871 - accuracy: 0.1742 - val_loss: 3.5684 - val_accuracy: 0.1610\n",
            "Epoch 31/200\n",
            "313/313 [==============================] - 2s 5ms/step - loss: 3.4842 - accuracy: 0.1732 - val_loss: 3.5127 - val_accuracy: 0.1736\n",
            "Epoch 32/200\n",
            "313/313 [==============================] - 2s 5ms/step - loss: 3.4875 - accuracy: 0.1737 - val_loss: 3.4757 - val_accuracy: 0.1781\n",
            "Epoch 33/200\n",
            "313/313 [==============================] - 2s 6ms/step - loss: 3.4848 - accuracy: 0.1725 - val_loss: 3.5190 - val_accuracy: 0.1651\n",
            "Epoch 34/200\n",
            "313/313 [==============================] - 2s 7ms/step - loss: 3.4808 - accuracy: 0.1757 - val_loss: 3.5684 - val_accuracy: 0.1647\n",
            "Epoch 35/200\n",
            "313/313 [==============================] - 2s 5ms/step - loss: 3.4828 - accuracy: 0.1755 - val_loss: 3.4793 - val_accuracy: 0.1848\n",
            "Epoch 36/200\n",
            "313/313 [==============================] - 2s 5ms/step - loss: 3.4806 - accuracy: 0.1747 - val_loss: 3.5361 - val_accuracy: 0.1700\n",
            "Epoch 37/200\n",
            "313/313 [==============================] - 2s 5ms/step - loss: 3.4948 - accuracy: 0.1733 - val_loss: 3.5166 - val_accuracy: 0.1773\n",
            "Epoch 38/200\n",
            "313/313 [==============================] - 2s 6ms/step - loss: 3.4931 - accuracy: 0.1754 - val_loss: 3.5746 - val_accuracy: 0.1673\n",
            "Epoch 39/200\n",
            "313/313 [==============================] - 2s 5ms/step - loss: 3.4882 - accuracy: 0.1745 - val_loss: 3.4947 - val_accuracy: 0.1791\n",
            "Epoch 40/200\n",
            "313/313 [==============================] - 2s 6ms/step - loss: 3.4848 - accuracy: 0.1735 - val_loss: 3.4983 - val_accuracy: 0.1737\n",
            "Epoch 41/200\n",
            "313/313 [==============================] - 2s 5ms/step - loss: 3.4793 - accuracy: 0.1744 - val_loss: 3.4962 - val_accuracy: 0.1801\n",
            "Epoch 42/200\n",
            "313/313 [==============================] - 2s 5ms/step - loss: 3.4970 - accuracy: 0.1747 - val_loss: 3.4930 - val_accuracy: 0.1786\n",
            "Epoch 43/200\n",
            "313/313 [==============================] - 2s 5ms/step - loss: 3.4839 - accuracy: 0.1745 - val_loss: 3.4650 - val_accuracy: 0.1872\n",
            "Epoch 44/200\n",
            "313/313 [==============================] - 2s 5ms/step - loss: 3.4874 - accuracy: 0.1743 - val_loss: 3.5422 - val_accuracy: 0.1688\n",
            "Epoch 45/200\n",
            "313/313 [==============================] - 2s 5ms/step - loss: 3.4848 - accuracy: 0.1748 - val_loss: 3.5301 - val_accuracy: 0.1716\n",
            "Epoch 46/200\n",
            "313/313 [==============================] - 2s 5ms/step - loss: 3.4848 - accuracy: 0.1777 - val_loss: 3.6233 - val_accuracy: 0.1614\n",
            "Epoch 47/200\n",
            "313/313 [==============================] - 2s 5ms/step - loss: 3.4953 - accuracy: 0.1724 - val_loss: 3.5043 - val_accuracy: 0.1774\n",
            "Epoch 48/200\n",
            "313/313 [==============================] - 2s 6ms/step - loss: 3.4933 - accuracy: 0.1749 - val_loss: 3.5480 - val_accuracy: 0.1648\n",
            "Epoch 49/200\n",
            "313/313 [==============================] - 2s 5ms/step - loss: 3.5002 - accuracy: 0.1751 - val_loss: 3.5320 - val_accuracy: 0.1749\n",
            "Epoch 50/200\n",
            "313/313 [==============================] - 2s 5ms/step - loss: 3.4800 - accuracy: 0.1739 - val_loss: 3.4999 - val_accuracy: 0.1819\n",
            "Epoch 51/200\n",
            "313/313 [==============================] - 2s 5ms/step - loss: 3.5067 - accuracy: 0.1722 - val_loss: 3.5400 - val_accuracy: 0.1755\n",
            "Epoch 52/200\n",
            "313/313 [==============================] - 2s 5ms/step - loss: 3.4912 - accuracy: 0.1759 - val_loss: 3.5088 - val_accuracy: 0.1774\n",
            "Epoch 53/200\n",
            "313/313 [==============================] - 2s 5ms/step - loss: 3.4925 - accuracy: 0.1735 - val_loss: 3.5430 - val_accuracy: 0.1673\n",
            "Epoch 54/200\n",
            "313/313 [==============================] - 2s 5ms/step - loss: 3.4988 - accuracy: 0.1741 - val_loss: 3.4726 - val_accuracy: 0.1863\n",
            "Epoch 55/200\n",
            "313/313 [==============================] - 2s 5ms/step - loss: 3.4927 - accuracy: 0.1741 - val_loss: 3.5390 - val_accuracy: 0.1681\n",
            "Epoch 56/200\n",
            "313/313 [==============================] - 2s 5ms/step - loss: 3.4989 - accuracy: 0.1722 - val_loss: 3.5415 - val_accuracy: 0.1706\n",
            "Epoch 57/200\n",
            "313/313 [==============================] - 2s 5ms/step - loss: 3.5015 - accuracy: 0.1725 - val_loss: 3.5876 - val_accuracy: 0.1646\n",
            "Epoch 58/200\n",
            "313/313 [==============================] - 2s 5ms/step - loss: 3.4930 - accuracy: 0.1751 - val_loss: 3.5163 - val_accuracy: 0.1748\n",
            "Epoch 59/200\n",
            "313/313 [==============================] - 2s 5ms/step - loss: 3.5051 - accuracy: 0.1720 - val_loss: 3.4605 - val_accuracy: 0.1730\n",
            "Epoch 60/200\n",
            "313/313 [==============================] - 2s 5ms/step - loss: 3.5079 - accuracy: 0.1702 - val_loss: 3.5182 - val_accuracy: 0.1747\n",
            "Epoch 61/200\n",
            "313/313 [==============================] - 2s 5ms/step - loss: 3.5089 - accuracy: 0.1719 - val_loss: 3.5726 - val_accuracy: 0.1604\n",
            "Epoch 62/200\n",
            "313/313 [==============================] - 2s 5ms/step - loss: 3.5105 - accuracy: 0.1715 - val_loss: 3.5400 - val_accuracy: 0.1701\n",
            "Epoch 63/200\n",
            "313/313 [==============================] - 2s 5ms/step - loss: 3.5027 - accuracy: 0.1720 - val_loss: 3.5160 - val_accuracy: 0.1790\n",
            "Epoch 64/200\n",
            "313/313 [==============================] - 2s 5ms/step - loss: 3.5067 - accuracy: 0.1735 - val_loss: 3.5449 - val_accuracy: 0.1670\n",
            "Epoch 65/200\n",
            "313/313 [==============================] - 2s 5ms/step - loss: 3.5028 - accuracy: 0.1729 - val_loss: 3.4747 - val_accuracy: 0.1794\n",
            "Epoch 66/200\n",
            "313/313 [==============================] - 2s 5ms/step - loss: 3.5090 - accuracy: 0.1706 - val_loss: 3.5069 - val_accuracy: 0.1707\n",
            "Epoch 67/200\n",
            "313/313 [==============================] - 2s 5ms/step - loss: 3.5155 - accuracy: 0.1717 - val_loss: 3.5478 - val_accuracy: 0.1680\n",
            "Epoch 68/200\n",
            "313/313 [==============================] - 2s 5ms/step - loss: 3.5075 - accuracy: 0.1708 - val_loss: 3.4916 - val_accuracy: 0.1779\n",
            "Epoch 69/200\n",
            "313/313 [==============================] - 2s 5ms/step - loss: 3.5081 - accuracy: 0.1717 - val_loss: 3.5315 - val_accuracy: 0.1749\n",
            "Epoch 70/200\n",
            "313/313 [==============================] - 2s 5ms/step - loss: 3.4990 - accuracy: 0.1728 - val_loss: 3.6245 - val_accuracy: 0.1510\n",
            "Epoch 71/200\n",
            "313/313 [==============================] - 2s 5ms/step - loss: 3.5041 - accuracy: 0.1726 - val_loss: 3.5465 - val_accuracy: 0.1698\n",
            "Epoch 72/200\n",
            "313/313 [==============================] - 2s 5ms/step - loss: 3.5179 - accuracy: 0.1691 - val_loss: 3.5245 - val_accuracy: 0.1701\n",
            "Epoch 73/200\n",
            "313/313 [==============================] - 2s 5ms/step - loss: 3.5128 - accuracy: 0.1699 - val_loss: 3.5533 - val_accuracy: 0.1757\n",
            "Epoch 74/200\n",
            "313/313 [==============================] - 2s 5ms/step - loss: 3.5082 - accuracy: 0.1690 - val_loss: 3.5709 - val_accuracy: 0.1638\n",
            "Epoch 75/200\n",
            "313/313 [==============================] - 2s 5ms/step - loss: 3.5106 - accuracy: 0.1712 - val_loss: 3.5032 - val_accuracy: 0.1789\n",
            "Epoch 76/200\n",
            "313/313 [==============================] - 2s 5ms/step - loss: 3.5065 - accuracy: 0.1711 - val_loss: 3.5946 - val_accuracy: 0.1659\n",
            "Epoch 77/200\n",
            "313/313 [==============================] - 2s 5ms/step - loss: 3.5102 - accuracy: 0.1723 - val_loss: 3.5189 - val_accuracy: 0.1753\n",
            "Epoch 78/200\n",
            "313/313 [==============================] - 2s 5ms/step - loss: 3.5208 - accuracy: 0.1670 - val_loss: 3.6006 - val_accuracy: 0.1648\n",
            "Epoch 79/200\n",
            "313/313 [==============================] - 2s 5ms/step - loss: 3.5237 - accuracy: 0.1677 - val_loss: 3.5247 - val_accuracy: 0.1808\n",
            "Epoch 80/200\n",
            "313/313 [==============================] - 2s 5ms/step - loss: 3.5151 - accuracy: 0.1725 - val_loss: 3.6417 - val_accuracy: 0.1524\n",
            "Epoch 81/200\n",
            "313/313 [==============================] - 2s 5ms/step - loss: 3.5294 - accuracy: 0.1667 - val_loss: 3.6006 - val_accuracy: 0.1649\n",
            "Epoch 82/200\n",
            "313/313 [==============================] - 2s 5ms/step - loss: 3.5299 - accuracy: 0.1711 - val_loss: 3.5206 - val_accuracy: 0.1797\n",
            "Epoch 83/200\n",
            "313/313 [==============================] - 2s 5ms/step - loss: 3.5223 - accuracy: 0.1704 - val_loss: 3.5646 - val_accuracy: 0.1684\n",
            "Epoch 84/200\n",
            "313/313 [==============================] - 2s 5ms/step - loss: 3.5267 - accuracy: 0.1681 - val_loss: 3.5204 - val_accuracy: 0.1747\n",
            "Epoch 85/200\n",
            "313/313 [==============================] - 2s 5ms/step - loss: 3.5148 - accuracy: 0.1705 - val_loss: 3.5252 - val_accuracy: 0.1760\n",
            "Epoch 86/200\n",
            "313/313 [==============================] - 2s 5ms/step - loss: 3.5354 - accuracy: 0.1702 - val_loss: 3.5649 - val_accuracy: 0.1652\n",
            "Epoch 87/200\n",
            "313/313 [==============================] - 2s 5ms/step - loss: 3.5341 - accuracy: 0.1675 - val_loss: 3.5090 - val_accuracy: 0.1820\n",
            "Epoch 88/200\n",
            "313/313 [==============================] - 2s 5ms/step - loss: 3.5288 - accuracy: 0.1711 - val_loss: 3.5974 - val_accuracy: 0.1644\n",
            "Epoch 89/200\n",
            "313/313 [==============================] - 2s 5ms/step - loss: 3.5458 - accuracy: 0.1667 - val_loss: 3.6129 - val_accuracy: 0.1563\n",
            "Epoch 90/200\n",
            "313/313 [==============================] - 2s 5ms/step - loss: 3.5321 - accuracy: 0.1682 - val_loss: 3.5374 - val_accuracy: 0.1724\n",
            "Epoch 91/200\n",
            "313/313 [==============================] - 2s 5ms/step - loss: 3.5218 - accuracy: 0.1688 - val_loss: 3.5874 - val_accuracy: 0.1612\n",
            "Epoch 92/200\n",
            "313/313 [==============================] - 2s 5ms/step - loss: 3.5289 - accuracy: 0.1667 - val_loss: 3.5185 - val_accuracy: 0.1810\n",
            "Epoch 93/200\n",
            "313/313 [==============================] - 2s 5ms/step - loss: 3.5304 - accuracy: 0.1680 - val_loss: 3.6199 - val_accuracy: 0.1613\n",
            "Epoch 94/200\n",
            "313/313 [==============================] - 2s 5ms/step - loss: 3.5317 - accuracy: 0.1665 - val_loss: 3.7000 - val_accuracy: 0.1534\n",
            "Epoch 95/200\n",
            "313/313 [==============================] - 2s 5ms/step - loss: 3.5556 - accuracy: 0.1649 - val_loss: 3.5943 - val_accuracy: 0.1638\n",
            "Epoch 96/200\n",
            "313/313 [==============================] - 2s 6ms/step - loss: 3.5378 - accuracy: 0.1654 - val_loss: 3.6167 - val_accuracy: 0.1628\n",
            "Epoch 97/200\n",
            "313/313 [==============================] - 2s 5ms/step - loss: 3.5402 - accuracy: 0.1681 - val_loss: 3.6508 - val_accuracy: 0.1467\n",
            "Epoch 98/200\n",
            "313/313 [==============================] - 2s 5ms/step - loss: 3.5263 - accuracy: 0.1687 - val_loss: 3.6029 - val_accuracy: 0.1551\n",
            "Epoch 99/200\n",
            "313/313 [==============================] - 2s 5ms/step - loss: 3.5430 - accuracy: 0.1661 - val_loss: 3.5631 - val_accuracy: 0.1715\n",
            "Epoch 100/200\n",
            "313/313 [==============================] - 2s 5ms/step - loss: 3.5406 - accuracy: 0.1661 - val_loss: 3.5399 - val_accuracy: 0.1679\n",
            "Epoch 101/200\n",
            "313/313 [==============================] - 2s 5ms/step - loss: 3.5503 - accuracy: 0.1698 - val_loss: 3.5183 - val_accuracy: 0.1827\n",
            "Epoch 102/200\n",
            "313/313 [==============================] - 2s 5ms/step - loss: 3.5434 - accuracy: 0.1694 - val_loss: 3.5945 - val_accuracy: 0.1642\n",
            "Epoch 103/200\n",
            "313/313 [==============================] - 2s 5ms/step - loss: 3.5440 - accuracy: 0.1657 - val_loss: 3.5634 - val_accuracy: 0.1658\n",
            "Epoch 104/200\n",
            "313/313 [==============================] - 2s 5ms/step - loss: 3.5446 - accuracy: 0.1712 - val_loss: 3.5162 - val_accuracy: 0.1744\n",
            "Epoch 105/200\n",
            "313/313 [==============================] - 2s 5ms/step - loss: 3.5453 - accuracy: 0.1664 - val_loss: 3.5735 - val_accuracy: 0.1737\n",
            "Epoch 106/200\n",
            "313/313 [==============================] - 2s 5ms/step - loss: 3.5396 - accuracy: 0.1648 - val_loss: 3.6321 - val_accuracy: 0.1505\n",
            "Epoch 107/200\n",
            "313/313 [==============================] - 2s 5ms/step - loss: 3.5333 - accuracy: 0.1671 - val_loss: 3.5874 - val_accuracy: 0.1602\n",
            "Epoch 108/200\n",
            "313/313 [==============================] - 2s 5ms/step - loss: 3.5475 - accuracy: 0.1619 - val_loss: 3.5454 - val_accuracy: 0.1752\n"
          ]
        }
      ]
    },
    {
      "cell_type": "code",
      "source": [
        "score = model.evaluate(X_test_scale,y_test_scale,verbose=1)\n",
        "print('test loss: ',score[0])\n",
        "print( 'test accuracy: ',score[1])"
      ],
      "metadata": {
        "id": "sfbE6cAHVY1J",
        "colab": {
          "base_uri": "https://localhost:8080/"
        },
        "outputId": "5c887993-31e8-496f-db70-5654db0a3431"
      },
      "execution_count": null,
      "outputs": [
        {
          "output_type": "stream",
          "name": "stdout",
          "text": [
            "313/313 [==============================] - 1s 2ms/step - loss: 3.5454 - accuracy: 0.1743\n",
            "test loss:  3.545367479324341\n",
            "test accuracy:  0.17430000007152557\n"
          ]
        }
      ]
    },
    {
      "cell_type": "code",
      "source": [
        "plt.plot(history.history['accuracy'])\n",
        "plt.plot(history.history['val_accuracy'])\n",
        "plt.title('Model accuracy')\n",
        "plt.ylabel('Accuracy')\n",
        "plt.xlabel('Epochs')\n",
        "plt.legend(['Train','Validation'])\n",
        "plt.show()\n"
      ],
      "metadata": {
        "id": "p7GjqSRYV37Z",
        "colab": {
          "base_uri": "https://localhost:8080/",
          "height": 295
        },
        "outputId": "aa88323e-8845-4ccb-f1e8-7beb7dacdf7c"
      },
      "execution_count": null,
      "outputs": [
        {
          "output_type": "display_data",
          "data": {
            "text/plain": [
              "<Figure size 432x288 with 1 Axes>"
            ],
            "image/png": "[encoded data removed]"
          },
          "metadata": {
            "needs_background": "light"
          }
        }
      ]
    },
    {
      "cell_type": "code",
      "source": [
        "prediction = model.predict(X_test_scale[:1])\n",
        "print(prediction)"
      ],
      "metadata": {
        "id": "RbHlTpTQV4uf",
        "colab": {
          "base_uri": "https://localhost:8080/"
        },
        "outputId": "670079f2-946e-47e9-9d33-80be7b123be7"
      },
      "execution_count": null,
      "outputs": [
        {
          "output_type": "stream",
          "name": "stdout",
          "text": [
            "[[3.74775880e-07 2.26173725e-05 5.82127192e-04 1.79476640e-03\n",
            "  1.15242158e-03 4.94951056e-03 3.34794604e-05 2.70454511e-05\n",
            "  6.02481216e-02 8.74988455e-03 1.11104091e-04 6.02987595e-04\n",
            "  1.75557658e-01 5.82763460e-03 7.36350057e-06 3.32498574e-03\n",
            "  1.53249153e-03 4.53547463e-02 3.73022136e-04 1.44479494e-03\n",
            "  1.98752445e-04 1.93179375e-03 8.15280655e-04 4.25047763e-02\n",
            "  1.41449069e-04 3.85783473e-03 1.14308430e-04 4.26168181e-03\n",
            "  7.06727558e-04 5.96789527e-04 6.26167469e-03 3.37641896e-03\n",
            "  1.08631542e-02 1.44484388e-02 9.51043476e-05 9.24674852e-04\n",
            "  4.10590292e-05 3.90289463e-02 5.52049605e-04 1.57605335e-02\n",
            "  3.56035098e-03 2.50874582e-04 6.81763049e-04 1.63240256e-05\n",
            "  5.85746893e-04 2.58346437e-04 2.02589692e-03 1.79088267e-04\n",
            "  4.76706680e-03 3.91056240e-02 1.85501616e-04 8.96736383e-05\n",
            "  5.13403866e-05 3.23766369e-09 2.27149154e-04 5.53313317e-03\n",
            "  5.65669779e-03 2.01343864e-05 3.10148927e-03 1.14552779e-02\n",
            "  2.98024379e-02 1.60362601e-04 6.89173760e-07 5.07388650e-05\n",
            "  5.00965165e-04 1.19148253e-03 3.54646501e-04 1.91140466e-03\n",
            "  7.90027604e-02 4.36109118e-02 1.27225512e-05 1.65441170e-01\n",
            "  1.16025517e-02 3.17788683e-03 1.13806331e-04 1.05402316e-04\n",
            "  5.11506461e-02 5.80833934e-04 2.80824199e-04 3.06419819e-03\n",
            "  1.20812142e-03 2.14227159e-02 2.26747761e-05 2.12303939e-06\n",
            "  1.68155658e-03 8.07686150e-03 5.49485325e-04 2.76460033e-03\n",
            "  5.25204123e-05 1.92423491e-03 1.69818886e-02 2.13913503e-03\n",
            "  8.24088056e-06 2.51706992e-03 1.80731251e-04 8.75839125e-03\n",
            "  1.59859413e-03 5.16773900e-04 4.19228076e-04 1.12849905e-03]]\n"
          ]
        }
      ]
    },
    {
      "cell_type": "code",
      "source": [
        ""
      ],
      "metadata": {
        "id": "8gYwzVtMYP-1"
      },
      "execution_count": null,
      "outputs": []
    }
  ]
}